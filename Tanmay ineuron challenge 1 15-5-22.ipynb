{
 "cells": [
  {
   "cell_type": "code",
   "execution_count": 1,
   "id": "bb631ce8",
   "metadata": {},
   "outputs": [],
   "source": [
    "s = \"this is My First Python programing class and i am learNING python string and its function\""
   ]
  },
  {
   "cell_type": "code",
   "execution_count": 2,
   "id": "83f049ec",
   "metadata": {},
   "outputs": [
    {
     "data": {
      "text/plain": [
       "str"
      ]
     },
     "execution_count": 2,
     "metadata": {},
     "output_type": "execute_result"
    }
   ],
   "source": [
    "type (s)"
   ]
  },
  {
   "cell_type": "code",
   "execution_count": null,
   "id": "1d67a4ac",
   "metadata": {},
   "outputs": [],
   "source": [
    "Q = 1"
   ]
  },
  {
   "cell_type": "code",
   "execution_count": 6,
   "id": "da47be08",
   "metadata": {},
   "outputs": [
    {
     "data": {
      "text/plain": [
       "'tssyityopgmglsnimeNGyosi dtfco'"
      ]
     },
     "execution_count": 6,
     "metadata": {},
     "output_type": "execute_result"
    }
   ],
   "source": [
    "s [0:300:3]"
   ]
  },
  {
   "cell_type": "code",
   "execution_count": null,
   "id": "fc28dd52",
   "metadata": {},
   "outputs": [],
   "source": []
  },
  {
   "cell_type": "code",
   "execution_count": 8,
   "id": "74ba3dce",
   "metadata": {},
   "outputs": [],
   "source": [
    "Q = 2"
   ]
  },
  {
   "cell_type": "code",
   "execution_count": 9,
   "id": "592b3ec5",
   "metadata": {},
   "outputs": [
    {
     "data": {
      "text/plain": [
       "'noitcnuf sti dna gnirts nohtyp GNINrael ma i dna ssalc gnimargorp nohtyP tsriF yM si siht'"
      ]
     },
     "execution_count": 9,
     "metadata": {},
     "output_type": "execute_result"
    }
   ],
   "source": [
    "s [::-1]"
   ]
  },
  {
   "cell_type": "code",
   "execution_count": null,
   "id": "d996f21b",
   "metadata": {},
   "outputs": [],
   "source": []
  },
  {
   "cell_type": "code",
   "execution_count": 10,
   "id": "7068afa6",
   "metadata": {},
   "outputs": [],
   "source": [
    "Q = 3"
   ]
  },
  {
   "cell_type": "code",
   "execution_count": 12,
   "id": "a1f0cce7",
   "metadata": {},
   "outputs": [
    {
     "data": {
      "text/plain": [
       "'THIS IS MY FIRST PYTHON PROGRAMING CLASS AND I AM LEARNING PYTHON STRING AND ITS FUNCTION'"
      ]
     },
     "execution_count": 12,
     "metadata": {},
     "output_type": "execute_result"
    }
   ],
   "source": [
    "s.upper()"
   ]
  },
  {
   "cell_type": "code",
   "execution_count": null,
   "id": "002a4e13",
   "metadata": {},
   "outputs": [],
   "source": []
  },
  {
   "cell_type": "code",
   "execution_count": 13,
   "id": "684be290",
   "metadata": {},
   "outputs": [],
   "source": [
    "Q = 4"
   ]
  },
  {
   "cell_type": "code",
   "execution_count": 14,
   "id": "79468d9e",
   "metadata": {},
   "outputs": [
    {
     "data": {
      "text/plain": [
       "'this is my first python programing class and i am learning python string and its function'"
      ]
     },
     "execution_count": 14,
     "metadata": {},
     "output_type": "execute_result"
    }
   ],
   "source": [
    "s.lower()"
   ]
  },
  {
   "cell_type": "code",
   "execution_count": null,
   "id": "7ea95763",
   "metadata": {},
   "outputs": [],
   "source": []
  },
  {
   "cell_type": "code",
   "execution_count": 15,
   "id": "b71ec075",
   "metadata": {},
   "outputs": [],
   "source": [
    "Q = 5"
   ]
  },
  {
   "cell_type": "code",
   "execution_count": 16,
   "id": "a0d1dfe1",
   "metadata": {},
   "outputs": [
    {
     "data": {
      "text/plain": [
       "'This is my first python programing class and i am learning python string and its function'"
      ]
     },
     "execution_count": 16,
     "metadata": {},
     "output_type": "execute_result"
    }
   ],
   "source": [
    "s.capitalize()"
   ]
  },
  {
   "cell_type": "code",
   "execution_count": null,
   "id": "ea0e566f",
   "metadata": {},
   "outputs": [],
   "source": []
  },
  {
   "cell_type": "code",
   "execution_count": 17,
   "id": "6e17ad07",
   "metadata": {},
   "outputs": [],
   "source": [
    "Q = 6"
   ]
  },
  {
   "cell_type": "code",
   "execution_count": 18,
   "id": "3c82f5fe",
   "metadata": {},
   "outputs": [],
   "source": [
    "ans = '''1. isalnum() means it shows the result in true or false. it will show true if the string contant combination of alphabets and numbers, otherwise False. \n",
    "2. isalpha() meeans it shows True or False result, True : if all elements content alphabts in the string. otherwise False.'''"
   ]
  },
  {
   "cell_type": "code",
   "execution_count": null,
   "id": "108d47e6",
   "metadata": {},
   "outputs": [],
   "source": []
  },
  {
   "cell_type": "code",
   "execution_count": 19,
   "id": "ccb452d4",
   "metadata": {},
   "outputs": [],
   "source": [
    "Q = 7"
   ]
  },
  {
   "cell_type": "code",
   "execution_count": 20,
   "id": "8573fdb2",
   "metadata": {},
   "outputs": [],
   "source": [
    "d = 'i a\\tm her\\te'"
   ]
  },
  {
   "cell_type": "code",
   "execution_count": 21,
   "id": "730f1b3d",
   "metadata": {},
   "outputs": [
    {
     "data": {
      "text/plain": [
       "'i a     m her   e'"
      ]
     },
     "execution_count": 21,
     "metadata": {},
     "output_type": "execute_result"
    }
   ],
   "source": [
    "d.expandtabs()"
   ]
  },
  {
   "cell_type": "code",
   "execution_count": null,
   "id": "54ad6850",
   "metadata": {},
   "outputs": [],
   "source": []
  },
  {
   "cell_type": "code",
   "execution_count": 22,
   "id": "21f0b179",
   "metadata": {},
   "outputs": [],
   "source": [
    "Q = 8"
   ]
  },
  {
   "cell_type": "code",
   "execution_count": 29,
   "id": "b66bebbd",
   "metadata": {},
   "outputs": [],
   "source": [
    "f = '    go away    '"
   ]
  },
  {
   "cell_type": "code",
   "execution_count": 31,
   "id": "5ff4dfce",
   "metadata": {},
   "outputs": [
    {
     "data": {
      "text/plain": [
       "'go away'"
      ]
     },
     "execution_count": 31,
     "metadata": {},
     "output_type": "execute_result"
    }
   ],
   "source": [
    "f.strip()"
   ]
  },
  {
   "cell_type": "code",
   "execution_count": 32,
   "id": "172a4820",
   "metadata": {},
   "outputs": [
    {
     "data": {
      "text/plain": [
       "'go away    '"
      ]
     },
     "execution_count": 32,
     "metadata": {},
     "output_type": "execute_result"
    }
   ],
   "source": [
    "f.lstrip()"
   ]
  },
  {
   "cell_type": "code",
   "execution_count": 33,
   "id": "963402a5",
   "metadata": {},
   "outputs": [
    {
     "data": {
      "text/plain": [
       "'    go away'"
      ]
     },
     "execution_count": 33,
     "metadata": {},
     "output_type": "execute_result"
    }
   ],
   "source": [
    "f.rstrip()"
   ]
  },
  {
   "cell_type": "code",
   "execution_count": null,
   "id": "02d20304",
   "metadata": {},
   "outputs": [],
   "source": []
  },
  {
   "cell_type": "code",
   "execution_count": 34,
   "id": "698ffe9e",
   "metadata": {},
   "outputs": [],
   "source": [
    "Q = 9"
   ]
  },
  {
   "cell_type": "code",
   "execution_count": 43,
   "id": "24c62c7f",
   "metadata": {},
   "outputs": [],
   "source": [
    "g = \"i like red\""
   ]
  },
  {
   "cell_type": "code",
   "execution_count": 44,
   "id": "e6a2b725",
   "metadata": {},
   "outputs": [
    {
     "data": {
      "text/plain": [
       "'i like green'"
      ]
     },
     "execution_count": 44,
     "metadata": {},
     "output_type": "execute_result"
    }
   ],
   "source": [
    "g.replace(\"red\",\"green\")"
   ]
  },
  {
   "cell_type": "code",
   "execution_count": null,
   "id": "b523b0e9",
   "metadata": {},
   "outputs": [],
   "source": []
  },
  {
   "cell_type": "code",
   "execution_count": 48,
   "id": "052fe020",
   "metadata": {},
   "outputs": [],
   "source": [
    "Q = 10"
   ]
  },
  {
   "cell_type": "code",
   "execution_count": 49,
   "id": "eca62df9",
   "metadata": {},
   "outputs": [],
   "source": [
    "r = '''Center function means the string comes at the center position and new character placed on the right and left equly.'''"
   ]
  },
  {
   "cell_type": "code",
   "execution_count": 50,
   "id": "80e2e0d4",
   "metadata": {},
   "outputs": [],
   "source": [
    "h = 'yo'"
   ]
  },
  {
   "cell_type": "code",
   "execution_count": 51,
   "id": "f451e968",
   "metadata": {},
   "outputs": [
    {
     "data": {
      "text/plain": [
       "'----yo----'"
      ]
     },
     "execution_count": 51,
     "metadata": {},
     "output_type": "execute_result"
    }
   ],
   "source": [
    "h.center(10,'-')"
   ]
  },
  {
   "cell_type": "code",
   "execution_count": null,
   "id": "cfe28e3f",
   "metadata": {},
   "outputs": [],
   "source": []
  },
  {
   "cell_type": "code",
   "execution_count": 53,
   "id": "124eec78",
   "metadata": {},
   "outputs": [],
   "source": [
    "Q = 11"
   ]
  },
  {
   "cell_type": "code",
   "execution_count": null,
   "id": "abf4a4bd",
   "metadata": {},
   "outputs": [],
   "source": [
    "t = '''compiler and interpreter are both used conversion of Source Code into Machine Code.'''"
   ]
  },
  {
   "cell_type": "code",
   "execution_count": 54,
   "id": "92fde686",
   "metadata": {},
   "outputs": [],
   "source": [
    "c = '''copiler can translate one sentence at a time and it takes more time,\n",
    "but interpreter scan whole code at a time and it takes lesser time.'''"
   ]
  },
  {
   "cell_type": "code",
   "execution_count": null,
   "id": "f9490f24",
   "metadata": {},
   "outputs": [],
   "source": []
  },
  {
   "cell_type": "code",
   "execution_count": 55,
   "id": "290153c9",
   "metadata": {},
   "outputs": [],
   "source": [
    "Q = 12"
   ]
  },
  {
   "cell_type": "code",
   "execution_count": 57,
   "id": "ac067e80",
   "metadata": {},
   "outputs": [],
   "source": [
    "p = '''python is interpretor language because it goes through with interpreter which contert your code into machin language '''"
   ]
  },
  {
   "cell_type": "code",
   "execution_count": null,
   "id": "d7fbaa52",
   "metadata": {},
   "outputs": [],
   "source": []
  },
  {
   "cell_type": "code",
   "execution_count": 58,
   "id": "a6a8de8a",
   "metadata": {},
   "outputs": [],
   "source": [
    "Q = 13"
   ]
  },
  {
   "cell_type": "code",
   "execution_count": null,
   "id": "1cdfe7c9",
   "metadata": {},
   "outputs": [],
   "source": [
    "ans = '''python is used in visual computerization apllication, picture presentation, etc.'''"
   ]
  }
 ],
 "metadata": {
  "kernelspec": {
   "display_name": "Python 3 (ipykernel)",
   "language": "python",
   "name": "python3"
  },
  "language_info": {
   "codemirror_mode": {
    "name": "ipython",
    "version": 3
   },
   "file_extension": ".py",
   "mimetype": "text/x-python",
   "name": "python",
   "nbconvert_exporter": "python",
   "pygments_lexer": "ipython3",
   "version": "3.9.12"
  }
 },
 "nbformat": 4,
 "nbformat_minor": 5
}
